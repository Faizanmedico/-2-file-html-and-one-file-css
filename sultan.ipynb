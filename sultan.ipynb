{
  "nbformat": 4,
  "nbformat_minor": 0,
  "metadata": {
    "colab": {
      "provenance": [],
      "authorship_tag": "ABX9TyMbLEHa7ibIdCXwhqVjPOWZ",
      "include_colab_link": true
    },
    "kernelspec": {
      "name": "python3",
      "display_name": "Python 3"
    },
    "language_info": {
      "name": "python"
    }
  },
  "cells": [
    {
      "cell_type": "markdown",
      "metadata": {
        "id": "view-in-github",
        "colab_type": "text"
      },
      "source": [
        "<a href=\"https://colab.research.google.com/github/Faizanmedico/-2-file-html-and-one-file-css/blob/main/sultan.ipynb\" target=\"_parent\"><img src=\"https://colab.research.google.com/assets/colab-badge.svg\" alt=\"Open In Colab\"/></a>"
      ]
    },
    {
      "cell_type": "code",
      "source": [
        "#Import the datetime module and display the current date:\n",
        "import datetime\n",
        "x = datetime.datetime.now()\n",
        "print(x)\n",
        "\n",
        "# In Python a function is defined using the def keyword:\n",
        "def my_function():\n",
        "  print(\"Hello from a function\")\n",
        "\n",
        "my_function()\n",
        "\n",
        "\n",
        "# Create an array containing car names:\n",
        "\n",
        "cars = [\"Ford\", \"Volvo\", \"BMW\"]\n",
        "\n",
        "print(cars)\n",
        "\n",
        "\n",
        "# Create a class named Person, use the __init__() function:\n",
        "\n",
        "\n",
        "\n",
        "class Person:\n",
        "  def __init__(self, name, age):\n",
        "    self.name = name\n",
        "    self.age = age\n",
        "\n",
        "  def __str__(self):\n",
        "    return f\"{self.name}({self.age})\"\n",
        "\n",
        "p1 = Person(\"Sultan\", 50)\n",
        "\n",
        "print(p1)\n",
        "print(p1)\n"
      ],
      "metadata": {
        "id": "clH1XHodwgsl",
        "colab": {
          "base_uri": "https://localhost:8080/"
        },
        "outputId": "8820842d-58eb-4286-8ea2-c0f91dd02738"
      },
      "execution_count": 12,
      "outputs": [
        {
          "output_type": "stream",
          "name": "stdout",
          "text": [
            "2025-02-24 16:39:36.610161\n",
            "Hello from a function\n",
            "['Ford', 'Volvo', 'BMW']\n",
            "Sultan(50)\n",
            "Sultan(50)\n"
          ]
        }
      ]
    }
  ]
}